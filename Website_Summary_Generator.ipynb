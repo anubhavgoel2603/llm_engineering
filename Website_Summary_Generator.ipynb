{
  "nbformat": 4,
  "nbformat_minor": 0,
  "metadata": {
    "colab": {
      "provenance": []
    },
    "kernelspec": {
      "name": "python3",
      "display_name": "Python 3"
    },
    "language_info": {
      "name": "python"
    }
  },
  "cells": [
    {
      "cell_type": "markdown",
      "source": [
        "# Welcome to your first use of an LLM!\n",
        "\n",
        "If this is your first use of Google Colab, welcome to that, too! In later weeks we will explore this in more detail. For now, just follow the instructions and let me know any questions.\n",
        "\n",
        "First, press the `Connect` or `Reconnect` button near the top right of this window to start a new CPU box running in the Cloud.\n",
        "\n",
        "Next click in the \"cell\" immediately below this one, and press Shift+Enter to execute the cell. Ollama should be downloaded and installed. The exclamation mark at the start of the line indicates that this is a shell command, not python.\n",
        "\n"
      ],
      "metadata": {
        "id": "4MS9vPBDDkd6"
      }
    },
    {
      "cell_type": "code",
      "source": [
        "!curl -fsSL https://ollama.com/install.sh | sh"
      ],
      "metadata": {
        "id": "nZcqFHYODOBO",
        "colab": {
          "base_uri": "https://localhost:8080/"
        },
        "outputId": "9cceb9ab-ff0b-4e5a-f987-726007f42b84"
      },
      "execution_count": null,
      "outputs": [
        {
          "output_type": "stream",
          "name": "stdout",
          "text": [
            ">>> Cleaning up old version at /usr/local/lib/ollama\n",
            ">>> Installing ollama to /usr/local\n",
            ">>> Downloading Linux amd64 bundle\n",
            "################################                                          45.7%"
          ]
        }
      ]
    },
    {
      "cell_type": "markdown",
      "source": [
        "## When this completes..\n",
        "\n",
        "The cell above should now say: `Install complete. Run \"ollama\" from the command line.`\n",
        "\n",
        "Now click in the cell below and press Shift+Enter.\n"
      ],
      "metadata": {
        "id": "N3-RFec0EMwI"
      }
    },
    {
      "cell_type": "code",
      "source": [
        "# Start Ollama server\n",
        "\n",
        "import subprocess\n",
        "\n",
        "# Start the command in a background process\n",
        "process = subprocess.Popen([\"ollama\", \"serve\"])\n",
        "\n",
        "# The kernel can continue execution while the process runs in the background\n",
        "print(\"The 'ollama serve' process is running in the background.\")"
      ],
      "metadata": {
        "id": "_j3vwuDHDwxI"
      },
      "execution_count": null,
      "outputs": []
    },
    {
      "cell_type": "markdown",
      "source": [
        "# Great!\n",
        "\n",
        "It should now say above: `The 'ollama serve' process is running in the background`.\n",
        "\n",
        "Now press Shift+Enter in each of the cells below in turn to try out Ollama."
      ],
      "metadata": {
        "id": "jx6JAHmKEkOs"
      }
    },
    {
      "cell_type": "code",
      "source": [
        "# Download the model that we want to use - this might take a couple of mins\n",
        "# The exclamation mark at the start of the line indicates that this is a shell command, not python\n",
        "\n",
        "!ollama pull llama3.2:1b"
      ],
      "metadata": {
        "id": "r3VSOQYiGzco"
      },
      "execution_count": null,
      "outputs": []
    },
    {
      "cell_type": "code",
      "source": [
        "# install the Ollama python API package\n",
        "\n",
        "!pip install ollama"
      ],
      "metadata": {
        "id": "Gr4iQ6alDqdf"
      },
      "execution_count": null,
      "outputs": []
    },
    {
      "cell_type": "code",
      "source": [
        "# import the package\n",
        "\n",
        "import ollama"
      ],
      "metadata": {
        "id": "MZ7EoToiDqaq"
      },
      "execution_count": null,
      "outputs": []
    },
    {
      "cell_type": "code",
      "source": [
        "# Your first message to your very own LLM running \"locally\" (well, on your cloud box)\n",
        "\n",
        "message = \"Hi there! This is my first message to an LLM!\""
      ],
      "metadata": {
        "id": "ZA2T87uWCMKl"
      },
      "execution_count": null,
      "outputs": []
    },
    {
      "cell_type": "code",
      "source": [
        "# Put this message into the format expected by Ollama\n",
        "\n",
        "messages = [{\"role\": \"user\", \"content\": message}]"
      ],
      "metadata": {
        "id": "uIRqzV2jDLLJ"
      },
      "execution_count": null,
      "outputs": []
    },
    {
      "cell_type": "code",
      "source": [
        "# Let's do this!!\n",
        "\n",
        "response = ollama.chat(model=\"llama3.2:1b\", messages=messages)\n",
        "print(response['message']['content'])"
      ],
      "metadata": {
        "id": "Qehl86LOAuzQ"
      },
      "execution_count": null,
      "outputs": []
    },
    {
      "cell_type": "code",
      "source": [
        "import os\n",
        "import requests\n",
        "from bs4 import BeautifulSoup\n",
        "from IPython.display import Markdown, display\n",
        "from openai import OpenAI\n",
        "from google.colab import userdata"
      ],
      "metadata": {
        "id": "c9GZvqvzFTmU"
      },
      "execution_count": null,
      "outputs": []
    },
    {
      "cell_type": "code",
      "source": [
        "api_key = userdata.get('OPEN_API_KEY')\n",
        "\n",
        "# Check the key\n",
        "\n",
        "if not api_key:\n",
        "    print(\"No API key was found - please head over to the troubleshooting notebook in this folder to identify & fix!\")\n",
        "elif not api_key.startswith(\"sk-proj-\"):\n",
        "    print(\"An API key was found, but it doesn't start sk-proj-; please check you're using the right key - see troubleshooting notebook\")\n",
        "elif api_key.strip() != api_key:\n",
        "    print(\"An API key was found, but it looks like it might have space or tab characters at the start or end - please remove them - see troubleshooting notebook\")\n",
        "else:\n",
        "    print(\"API key found and looks good so far!\")"
      ],
      "metadata": {
        "id": "yw7sSSEuTCAC"
      },
      "execution_count": null,
      "outputs": []
    },
    {
      "cell_type": "code",
      "source": [
        "openai = OpenAI(api_key = api_key)"
      ],
      "metadata": {
        "id": "kjQSs9pLTfc9"
      },
      "execution_count": null,
      "outputs": []
    },
    {
      "cell_type": "code",
      "source": [
        "message = \"Hello, GPT! This is my first ever message to you! Hi!\"\n",
        "response = openai.chat.completions.create(model=\"gpt-4o-mini\", messages=[{\"role\":\"user\", \"content\":message}])\n",
        "print(response.choices[0].message.content)"
      ],
      "metadata": {
        "id": "qdCa5eZ_VX67"
      },
      "execution_count": null,
      "outputs": []
    },
    {
      "cell_type": "code",
      "source": [
        "# Some websites need you to use proper headers when fetching them:\n",
        "headers = {\n",
        " \"User-Agent\": \"Mozilla/5.0 (Windows NT 10.0; Win64; x64) AppleWebKit/537.36 (KHTML, like Gecko) Chrome/117.0.0.0 Safari/537.36\"\n",
        "}\n",
        "\n",
        "class Website:\n",
        "\n",
        "    def __init__(self, url):\n",
        "        \"\"\"\n",
        "        Create this Website object from the given url using the BeautifulSoup library\n",
        "        \"\"\"\n",
        "        self.url = url\n",
        "        response = requests.get(url, headers=headers)\n",
        "        soup = BeautifulSoup(response.content, 'html.parser')\n",
        "        self.title = soup.title.string if soup.title else \"No title found\"\n",
        "        for irrelevant in soup.body([\"script\", \"style\", \"img\", \"input\"]):\n",
        "            irrelevant.decompose()\n",
        "        self.text = soup.body.get_text(separator=\"\\n\", strip=True)"
      ],
      "metadata": {
        "id": "bnwLPcEWWhH2"
      },
      "execution_count": null,
      "outputs": []
    },
    {
      "cell_type": "code",
      "source": [
        "# Define our system prompt\n",
        "\n",
        "system_prompt = \"You are an assistant that analyzes the contents of a website \\\n",
        "and provides a short summary, ignoring text that might be navigation related. \\\n",
        "Respond in markdown.\""
      ],
      "metadata": {
        "id": "1hmkHHduXCwG"
      },
      "execution_count": null,
      "outputs": []
    },
    {
      "cell_type": "code",
      "source": [
        "def user_prompt_for(website):\n",
        "    user_prompt = f\"\"\"You are a helpful and concise assistant. Summarize the content of the following webpage in clear, human-friendly language.\n",
        "\n",
        "**Website Title:** {website.title}\n",
        "\n",
        "The contents of this website are as follows. Please:\n",
        "- Provide a short, structured summary in **Markdown** format.\n",
        "- Focus on the **main points, arguments, or instructions**.\n",
        "- Include any **news or announcements**, if applicable.\n",
        "- Do **not copy text verbatim** from the website.\n",
        "- Make it **easy to understand** for someone who hasn't read the article.\n",
        "- Keep the summary around **200–300 words**.\n",
        "\n",
        "---\n",
        "\n",
        "{website.text}\n",
        "\"\"\"\n",
        "    return user_prompt\n"
      ],
      "metadata": {
        "id": "4FMzUjvDathG"
      },
      "execution_count": null,
      "outputs": []
    },
    {
      "cell_type": "code",
      "source": [
        "def messages_for(website):\n",
        "    return [\n",
        "        {\"role\": \"system\", \"content\": system_prompt},\n",
        "        {\"role\": \"user\", \"content\": user_prompt_for(website)}\n",
        "    ]"
      ],
      "metadata": {
        "id": "sCFTckv3XgEf"
      },
      "execution_count": null,
      "outputs": []
    },
    {
      "cell_type": "code",
      "source": [
        "def summarize(url):\n",
        "    website = Website(url)\n",
        "    response = openai.chat.completions.create(\n",
        "        model = \"gpt-4o-mini\",\n",
        "        messages = messages_for(website)\n",
        "    )\n",
        "    return response.choices[0].message.content"
      ],
      "metadata": {
        "id": "d33KldZ9YoBA"
      },
      "execution_count": null,
      "outputs": []
    },
    {
      "cell_type": "code",
      "source": [
        "def display_summary(url):\n",
        "    summary = summarize(url)\n",
        "    display(Markdown(summary))"
      ],
      "metadata": {
        "id": "7bI3bfRfYsDe"
      },
      "execution_count": null,
      "outputs": []
    },
    {
      "cell_type": "code",
      "source": [
        "website_url = input(\"Enter the URL of the website you want to summarize: \")\n",
        "display_summary(website_url)"
      ],
      "metadata": {
        "id": "TqWz62UHZrjP"
      },
      "execution_count": null,
      "outputs": []
    }
  ]
}